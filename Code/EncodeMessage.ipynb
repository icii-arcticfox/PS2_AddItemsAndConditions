{
  "cells": [
    {
      "cell_type": "code",
      "execution_count": null,
      "id": "45903641",
      "metadata": {},
      "outputs": [],
      "source": []
    },
    {
      "cell_type": "code",
      "execution_count": null,
      "id": "bf5f0e15",
      "metadata": {},
      "outputs": [],
      "source": [
        "story = 'Barkley revved the engine, paws gripping the wheel. His furry friends buckled up as he wagged his tail, ready for a road trip adventure.'\n",
        "encodedStory = ''"
      ]
    },
    {
      "cell_type": "code",
      "execution_count": null,
      "id": "35076e21",
      "metadata": {},
      "outputs": [],
      "source": [
        "for i in range(story.index('His'), 500):\n",
        "    #[Test]\n",
        "\n",
        "    encodedStory += chr(ord(story[i]) + 1)"
      ]
    },
    {
      "cell_type": "code",
      "execution_count": null,
      "id": "0f289ae4",
      "metadata": {},
      "outputs": [],
      "source": [
        "print(encodedStory)"
      ]
    },
    {
      "cell_type": "code",
      "execution_count": null,
      "id": "0eff237f",
      "metadata": {},
      "outputs": [],
      "source": [
        "\n"
      ]
    }
  ],
  "metadata": {
    "kernelspec": {
      "display_name": "Python 3",
      "language": "python",
      "name": "python3"
    },
    "language_info": {
      "codemirror_mode": {
        "name": "ipython",
        "version": 3
      },
      "file_extension": ".py",
      "mimetype": "text/x-python",
      "name": "python",
      "nbconvert_exporter": "python",
      "pygments_lexer": "ipython3",
      "version": "3.10.6"
    },
    "orig_nbformat": 4
  },
  "nbformat": 4,
  "nbformat_minor": 5
}
