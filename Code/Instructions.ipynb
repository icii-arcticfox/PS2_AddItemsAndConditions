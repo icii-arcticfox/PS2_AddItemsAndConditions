{
  "cells": [
    {
      "cell_type": "code",
      "execution_count": null,
      "id": "146b1e5c",
      "metadata": {},
      "outputs": [],
      "source": []
    },
    {
      "cell_type": "markdown",
      "id": "0e6835a7",
      "metadata": {},
      "source": [
        "Run the following two cells to install and import IPython to view videos in the Sandbox"
      ]
    },
    {
      "cell_type": "code",
      "execution_count": null,
      "id": "01e7602f",
      "metadata": {},
      "outputs": [],
      "source": [
        "%pip install ipython"
      ]
    },
    {
      "cell_type": "code",
      "execution_count": null,
      "id": "10749a0c",
      "metadata": {},
      "outputs": [],
      "source": [
        "from IPython.display import Video"
      ]
    },
    {
      "cell_type": "markdown",
      "id": "c48526ce",
      "metadata": {},
      "source": [
        "# Next Steps, Items and Logic\n",
        "\n",
        "Continuing forward! This sandbox follows from the example in the PS2_MakeNewAutomation sandbox. In this sandbox we will cover adding Items to an automation and using software logic within the automation. "
      ]
    },
    {
      "cell_type": "markdown",
      "id": "2865c3db",
      "metadata": {},
      "source": [
        "### Picking Up From Last Time"
      ]
    },
    {
      "cell_type": "markdown",
      "id": "5cc51c32",
      "metadata": {},
      "source": [
        "We'll continue the same structure - The code we are working on will be in EncodeMessage.ipynb and we will be working on the Test automation in Test.py.\n",
        "\n",
        "Let's start with a quick review of the setup from the last sandbox. We have a code loop that hits an error. Rather than stepping through the debugger continuously, we increment and print out a number variable so when know when the loop hits an error. \n",
        "\n",
        "The code in EncodeMessage.ipynb is at the same point of where we left off. Feel free to Automate and see the code that [**Test**] generates. "
      ]
    },
    {
      "cell_type": "markdown",
      "id": "0833ff55",
      "metadata": {},
      "source": [
        "### Add More Code After Automation"
      ]
    },
    {
      "cell_type": "markdown",
      "id": "906cc322",
      "metadata": {},
      "source": [
        "At this point, it helps that we know when we will hit the error, but we also want the debugger to stop. What we often do is throw in an if statement to catch when the number variable hits the last number printed out. \n",
        "\n",
        "For us, the last number printed from the code above was 85. So, add the following snippet to the Test automation in Test.py under the print statement: \n",
        "\n",
        "```python\n",
        " if test_iteration == 85:\n",
        "    _ = test_iteration\n",
        "\n",
        "```\n",
        "\n",
        "The _ statement is just there to give us a line that we can pause on with the debugger. Your CodeAfterAutomation block should now look like:\n",
        "\n",
        "```python\n",
        "with self.CodeAfterAutomation:\n",
        "    test_iteration += 1\n",
        "    print(test_iteration)\n",
        "    if test_iteration == 85:\n",
        "        _ = test_iteration\n",
        "```\n",
        "\n",
        "\n",
        "Automate the code and see the changes below:"
      ]
    },
    {
      "cell_type": "markdown",
      "id": "ef0ff98a",
      "metadata": {},
      "source": [
        "### Add an Item\n"
      ]
    },
    {
      "cell_type": "markdown",
      "id": "04c1693b",
      "metadata": {},
      "source": [
        "Currently, the 85 is hard coded into the automation which makes it inflexible. Let's add an item to specify what iteration to break on and make the automation more flexible. \n",
        "\n",
        "First, use the helper button, \"f(x)\", above ApplyAutomation in Test.py to add an item. Again, this is just a Python code file, you could have simply added this code, but the helper button simplifies adding an item.  \n",
        "\n",
        "Run the cell below and watch the video to see an example of adding an item:"
      ]
    },
    {
      "cell_type": "code",
      "execution_count": null,
      "id": "e46a295b",
      "metadata": {},
      "outputs": [],
      "source": [
        "Video('Videos/AddItem.mp4')"
      ]
    },
    {
      "cell_type": "markdown",
      "id": "d80fba6b",
      "metadata": {},
      "source": [
        "Let's take a quick second to understand the line of code that creates the item. \n",
        "```python\n",
        "newItem = self.Items.Get('newItem', 0)\n",
        "```\n",
        "\n",
        "The **name** of the item is the string between ' '. The **name** is what is specified when using an automation. Items with names are passed in as: --itemName itemValue. \n",
        "\n",
        "The **position** of the item is the number given within Get. If an automation is used and items are passed without names, they are selected based on their position. It is preferred to pass in items with names. \n",
        "\n",
        "The **variable** is the Python variable on the left hand side of the equation. The **variable** is an Item object and can be used as a variable in your automation. An Item has many functions, but most importantly you can capture the value passed in using functions such as ToInt(), ToDouble(), ToBool(), ToString()."
      ]
    },
    {
      "cell_type": "markdown",
      "id": "2489722c",
      "metadata": {},
      "source": [
        "Change the name of the item to *count* to reflect the desired intention. It's not required to change both the **name** and **variable** to *count*, but it is a good practice, so we encourage you to change both. \n",
        "\n",
        "Your automation code should now look like this:\n",
        "```python\n",
        "#type:ignore\n",
        "from Icii import *\n",
        "\n",
        "class Test(⠀PythonAutomation⠀): \n",
        "    def ApplyAutomation(self):\n",
        "\n",
        "\n",
        "        count = self.Items.Get('count', 0)\n",
        "\n",
        "        with self.CodeCellStart:\n",
        "            test_iteration = 0\n",
        "\n",
        "        with self.CodeAfterAutomation:\n",
        "            test_iteration += 1\n",
        "            print(test_iteration)\n",
        "            if test_iteration == 85:\n",
        "                _ = test_iteration\n",
        "```"
      ]
    },
    {
      "cell_type": "markdown",
      "id": "92b036b5",
      "metadata": {},
      "source": [
        "### Flag Items\n",
        "We'll take a quick second to mention the difference between *value* and *flag* items. Value items, like count, have a value that is passed into them. Flag items are more of a boolean value, a was it included or not value. You can switch between a value and flag by clicking the alpha and flag icons above an item line. Click between them, but leave count as a value item before proceeding. "
      ]
    },
    {
      "cell_type": "markdown",
      "id": "739bafe4",
      "metadata": {},
      "source": [
        "### Use the Count Item"
      ]
    },
    {
      "cell_type": "markdown",
      "id": "cb8bd47e",
      "metadata": {},
      "source": [
        "Now, let's make use of the count item. We can interpolate any variable into our self.Code... blocks by wrapping the variable in double parenthesis. \n",
        "\n",
        "Run the code below and watch the video to see an example:"
      ]
    },
    {
      "cell_type": "code",
      "execution_count": null,
      "id": "5039c8cc",
      "metadata": {},
      "outputs": [],
      "source": [
        "Video('Videos/UseItemInCode.mp4')"
      ]
    },
    {
      "cell_type": "markdown",
      "id": "04e8af6a",
      "metadata": {},
      "source": [
        "Now, we'll make use of the count item through two steps. First, we'll modify our self.Code... block. Second, we will add the item to our instantiated automation.\n",
        "\n",
        "First,change 85 in our the Test automation in Test.py to ((count)) . That's all that's needed to add dynamic content to an automation.\n",
        "\n",
        "Second, we will add a count item to the [**Test**] automation in the code below (2nd cell below). You can add items manually or use the helper buttons. We will elect to use the helper buttons. Each automation shows possible items in the grey text above an automation. Click count to add a count item to them [**Test**] automation. \n",
        "\n",
        "For an example, run the cell below and watch the video:"
      ]
    },
    {
      "cell_type": "code",
      "execution_count": null,
      "id": "5cf087b9",
      "metadata": {},
      "outputs": [],
      "source": [
        "Video('Videos/AddItemToAutomation.mp4')"
      ]
    },
    {
      "cell_type": "markdown",
      "id": "b1550b3e",
      "metadata": {},
      "source": [
        "Set the value following count to 40, just to see something different than 85. "
      ]
    },
    {
      "cell_type": "markdown",
      "id": "708c0e1e",
      "metadata": {},
      "source": [
        "### Code Check"
      ]
    },
    {
      "cell_type": "markdown",
      "id": "c526c984",
      "metadata": {},
      "source": [
        "Let's do a quick code check and show you what our automation and python cell look like. If your's is greatly different, take a minute and see what you did differently. If you have any questions, please reach out to Icii. "
      ]
    },
    {
      "cell_type": "markdown",
      "id": "40a9489e",
      "metadata": {},
      "source": [
        "Your Test automation file, Test.py, should look like: \n",
        "\n",
        "```python\n",
        "#type:ignore\n",
        "from Icii import *\n",
        "\n",
        "class Test(⠀PythonAutomation⠀): \n",
        "    def ApplyAutomation(self):\n",
        "\n",
        "        count = self.Items.Get('count', 0)\n",
        "\n",
        "        with self.CodeCellStart:\n",
        "            test_iteration = 0\n",
        "\n",
        "        with self.CodeAfterAutomation:\n",
        "            test_iteration += 1\n",
        "            print(test_iteration)\n",
        "            if test_iteration == ((count)):\n",
        "                _ = test_iteration\n",
        "```\n",
        "\n"
      ]
    },
    {
      "cell_type": "markdown",
      "id": "ee2155a3",
      "metadata": {},
      "source": [
        "Your automated code cell should look like the following (plus it will have additional formatting / highlighting):\n",
        "\n",
        "```python\n",
        "test_iteration = 0\n",
        "\n",
        "story = 'Barkley revved the engine, paws gripping the wheel. His furry friends buckled up as he wagged his tail, ready for a road trip adventure.'\n",
        "encodedStory = ''\n",
        "\n",
        "for i in range(story.index('His'), 500):\n",
        "    [Test --count 40]\n",
        "    test_iteration += 1\n",
        "    print(test_iteration)\n",
        "    if test_iteration == 40:\n",
        "        _ = test_iteration\n",
        "\n",
        "    encodedStory += chr(ord(story[i]) + 1)\n",
        "\n",
        "print(encodedStory)\n",
        "\n",
        "```"
      ]
    },
    {
      "cell_type": "markdown",
      "id": "f83bc8eb",
      "metadata": {},
      "source": [
        "### Conditional Generation"
      ]
    },
    {
      "cell_type": "markdown",
      "id": "d5ba1c5c",
      "metadata": {},
      "source": [
        "Now, if we think about how we use these code snippets, we first print out the test_iteration to see when an error occurs, and then we use the if statement to stop on the count. Therefore, we only need the if statement once we know the count. \n",
        "\n",
        "Therefore, let's wrap the if statement in a conditional generation to only be generated if count has been set. First, run the next two cells and watch the videos to see examples of:\n",
        "- First, default item values\n",
        "- Second, conditional generation "
      ]
    },
    {
      "cell_type": "code",
      "execution_count": null,
      "id": "e8d9f23e",
      "metadata": {},
      "outputs": [],
      "source": [
        "Video('Videos/DefaultItemValue.mp4')"
      ]
    },
    {
      "cell_type": "code",
      "execution_count": null,
      "id": "e29b63dc",
      "metadata": {},
      "outputs": [],
      "source": [
        "Video('Videos/ConditionalGeneration.mp4')"
      ]
    },
    {
      "cell_type": "markdown",
      "id": "6adcf00c",
      "metadata": {},
      "source": [
        "First, give count a default value of -1. You can do this with the | operator followed by a value at the end of the item declaration, as such: \n",
        "```python\n",
        "count = self.Items.Get('count', 0) | -1\n",
        "```"
      ]
    },
    {
      "cell_type": "markdown",
      "id": "2099e3c4",
      "metadata": {},
      "source": [
        "Second, make the following lines conditional: \n",
        "```python\n",
        "if test_iteration == ((count)):\n",
        "    _ = test_iteration\n",
        "```\n",
        "\n",
        "To do this, highlight the above code in the file. An option should pop up that says \"Make into:...\" and select the Automate If option. Replace the \"if ...\" with if \"count >= 0\". The result should look like: \n",
        "```python\n",
        "(|if test_iteration == ((count)):\n",
        "    _ = test_iteration|if count >= 0 |)\n",
        "```"
      ]
    },
    {
      "cell_type": "markdown",
      "id": "770ab568",
      "metadata": {},
      "source": [
        "Now, Automate with and without passing in count as an item in the [**Test**] automation below. "
      ]
    },
    {
      "cell_type": "markdown",
      "id": "b00dfcbb",
      "metadata": {},
      "source": [
        "### Wrapping Up!"
      ]
    },
    {
      "cell_type": "markdown",
      "id": "c6f51b96",
      "metadata": {},
      "source": [
        "And that's all! In this Sandbox we covered adding items to an automation, adding a default value for an item, using an item in the generated code, and using conditional generation.\n",
        "\n",
        "This wraps up the basics of creating automations. In the next Sandbox we will go through an example of creating an automation for database functions. See you there!"
      ]
    },
    {
      "cell_type": "code",
      "execution_count": null,
      "id": "15fd0f44",
      "metadata": {},
      "outputs": [],
      "source": [
        "",
        ""
      ]
    }
  ],
  "metadata": {
    "kernelspec": {
      "display_name": "Python 3",
      "language": "python",
      "name": "python3"
    },
    "language_info": {
      "codemirror_mode": {
        "name": "ipython",
        "version": 3
      },
      "file_extension": ".py",
      "mimetype": "text/x-python",
      "name": "python",
      "nbconvert_exporter": "python",
      "pygments_lexer": "ipython3",
      "version": "3.10.6"
    },
    "orig_nbformat": 4
  },
  "nbformat": 4,
  "nbformat_minor": 5
}